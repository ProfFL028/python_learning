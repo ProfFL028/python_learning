{
 "cells": [
  {
   "cell_type": "code",
   "execution_count": 18,
   "metadata": {
    "collapsed": true
   },
   "outputs": [],
   "source": [
    "import numpy as np"
   ]
  },
  {
   "cell_type": "code",
   "execution_count": 19,
   "metadata": {},
   "outputs": [
    {
     "name": "stdout",
     "output_type": "stream",
     "text": [
      "[[ 0.38125678  0.21228204  0.80024775  0.60075014  0.42571263]\n [ 0.5414915   0.84487953  0.99730092  0.76878902  0.51765049]\n [ 0.07642699  0.16815127  0.65005459  0.10505441  0.67217628]\n [ 0.20362239  0.31162155  0.85740897  0.40443484  0.97672658]\n [ 0.99266493  0.8236577   0.0767001   0.48313578  0.84251114]]\n0.0764269872122\n0.997300924319\n"
     ]
    }
   ],
   "source": [
    "#min max\n",
    "z = np.random.random((5,5))\n",
    "print (z)\n",
    "zmin,zmax = z.min(), z.max()\n",
    "print (zmin)\n",
    "print (zmax)"
   ]
  },
  {
   "cell_type": "code",
   "execution_count": 21,
   "metadata": {},
   "outputs": [
    {
     "name": "stdout",
     "output_type": "stream",
     "text": [
      "[[ 0.56907601  0.65541428  0.65513191  0.67616542  0.22478991]\n [ 0.76227238  0.22482328  0.23061636  0.51816544  0.02399675]\n [ 0.30669715  0.61738155  0.42206915  0.4751545   0.45783044]\n [ 0.7593838   0.01049939  0.45749276  0.14311171  0.62635794]\n [ 0.93827166  0.89764283  0.81946223  0.73689433  0.07607985]]\n[[ 0.6020622   0.69512197  0.69481761  0.7174886   0.23097319]\n [ 0.81029905  0.23100915  0.23725323  0.54718821  0.01454814]\n [ 0.31925696  0.65412836  0.44361076  0.50082884  0.48215609]\n [ 0.80718559  0.          0.48179212  0.14293628  0.66380357]\n [ 1.          0.95620818  0.87194116  0.7829453   0.07068594]]\n"
     ]
    }
   ],
   "source": [
    "# 归一化\n",
    "z = np.random.random((5,5))\n",
    "print (z)\n",
    "zmin,zmax = z.min(), z.max()\n",
    "z = (z-zmin)/(zmax-zmin)\n",
    "print (z)"
   ]
  },
  {
   "cell_type": "code",
   "execution_count": 22,
   "metadata": {},
   "outputs": [
    {
     "name": "stdout",
     "output_type": "stream",
     "text": [
      "[[ 0.  1.  2.  3.  4.]\n [ 0.  1.  2.  3.  4.]\n [ 0.  1.  2.  3.  4.]\n [ 0.  1.  2.  3.  4.]\n [ 0.  1.  2.  3.  4.]]\n"
     ]
    }
   ],
   "source": [
    "# 矩阵相加\n",
    "z = np.zeros((5,5))\n",
    "z += np.arange(5)\n",
    "print (z)"
   ]
  },
  {
   "cell_type": "code",
   "execution_count": 23,
   "metadata": {},
   "outputs": [
    {
     "name": "stdout",
     "output_type": "stream",
     "text": [
      "(array([  0.,   1.,   2.,   3.,   4.,   5.,   6.,   7.,   8.,   9.,  10.]), 1.0)\n"
     ]
    }
   ],
   "source": [
    "#生成0-10之间均匀分布的11个数，包括0和10\n",
    "z = np.linspace(0, 10, 11, endpoint=True, retstep=True)\n",
    "print(z)"
   ]
  },
  {
   "cell_type": "code",
   "execution_count": 24,
   "metadata": {},
   "outputs": [
    {
     "name": "stdout",
     "output_type": "stream",
     "text": [
      "Help on function linspace in module numpy.core.function_base:\n\nlinspace(start, stop, num=50, endpoint=True, retstep=False, dtype=None)\n    Return evenly spaced numbers over a specified interval.\n    \n    Returns `num` evenly spaced samples, calculated over the\n    interval [`start`, `stop`].\n    \n    The endpoint of the interval can optionally be excluded.\n    \n    Parameters\n    ----------\n    start : scalar\n        The starting value of the sequence.\n    stop : scalar\n        The end value of the sequence, unless `endpoint` is set to False.\n        In that case, the sequence consists of all but the last of ``num + 1``\n        evenly spaced samples, so that `stop` is excluded.  Note that the step\n        size changes when `endpoint` is False.\n    num : int, optional\n        Number of samples to generate. Default is 50. Must be non-negative.\n    endpoint : bool, optional\n        If True, `stop` is the last sample. Otherwise, it is not included.\n        Default is True.\n    retstep : bool, optional\n        If True, return (`samples`, `step`), where `step` is the spacing\n        between samples.\n    dtype : dtype, optional\n        The type of the output array.  If `dtype` is not given, infer the data\n        type from the other input arguments.\n    \n        .. versionadded:: 1.9.0\n    \n    Returns\n    -------\n    samples : ndarray\n        There are `num` equally spaced samples in the closed interval\n        ``[start, stop]`` or the half-open interval ``[start, stop)``\n        (depending on whether `endpoint` is True or False).\n    step : float, optional\n        Only returned if `retstep` is True\n    \n        Size of spacing between samples.\n    \n    \n    See Also\n    --------\n    arange : Similar to `linspace`, but uses a step size (instead of the\n             number of samples).\n    logspace : Samples uniformly distributed in log space.\n    \n    Examples\n    --------\n    >>> np.linspace(2.0, 3.0, num=5)\n    array([ 2.  ,  2.25,  2.5 ,  2.75,  3.  ])\n    >>> np.linspace(2.0, 3.0, num=5, endpoint=False)\n    array([ 2. ,  2.2,  2.4,  2.6,  2.8])\n    >>> np.linspace(2.0, 3.0, num=5, retstep=True)\n    (array([ 2.  ,  2.25,  2.5 ,  2.75,  3.  ]), 0.25)\n    \n    Graphical illustration:\n    \n    >>> import matplotlib.pyplot as plt\n    >>> N = 8\n    >>> y = np.zeros(N)\n    >>> x1 = np.linspace(0, 10, N, endpoint=True)\n    >>> x2 = np.linspace(0, 10, N, endpoint=False)\n    >>> plt.plot(x1, y, 'o')\n    [<matplotlib.lines.Line2D object at 0x...>]\n    >>> plt.plot(x2, y + 0.5, 'o')\n    [<matplotlib.lines.Line2D object at 0x...>]\n    >>> plt.ylim([-0.5, 1])\n    (-0.5, 1)\n    >>> plt.show()\n\n"
     ]
    }
   ],
   "source": [
    "help(np.linspace)"
   ]
  },
  {
   "cell_type": "code",
   "execution_count": 14,
   "metadata": {},
   "outputs": [
    {
     "name": "stdout",
     "output_type": "stream",
     "text": [
      "[[ 0  1  2  3  4]\n [ 5  6  7  8  9]\n [10 11 12 13 14]\n [15 16 17 18 19]\n [20 21 22 23 24]]\n[[ 5  6  7  8  9]\n [ 0  1  2  3  4]\n [10 11 12 13 14]\n [15 16 17 18 19]\n [20 21 22 23 24]]\n"
     ]
    }
   ],
   "source": [
    "# 交换两行\n",
    "a = np.arange(25).reshape(5,5)\n",
    "print (a)\n",
    "a[[0,1]]=a[[1,0]]\n",
    "print (a)"
   ]
  },
  {
   "cell_type": "code",
   "execution_count": 15,
   "metadata": {},
   "outputs": [
    {
     "name": "stdout",
     "output_type": "stream",
     "text": [
      "5\n"
     ]
    }
   ],
   "source": [
    "# 找出数组中与给定值最接近的数\n",
    "z = np.array([[0,1,2,3],[4,5,6,7]])\n",
    "a = 5.1\n",
    "print(np.abs(z-a).argmin())"
   ]
  },
  {
   "cell_type": "code",
   "execution_count": 16,
   "metadata": {},
   "outputs": [
    {
     "name": "stdout",
     "output_type": "stream",
     "text": [
      "[[0 2 1 1 2 2 2 0 1 2]\n [1 0 1 1 0 0 2 2 0 0]]\n[ True  True  True  True  True  True  True  True  True  True]\n"
     ]
    }
   ],
   "source": [
    "# 判断二维矩阵中有没有一整列数为0\n",
    "z = np.random.randint(0, 3,(2,10))\n",
    "print (z)\n",
    "print (z.any(axis=0))"
   ]
  },
  {
   "cell_type": "code",
   "execution_count": 43,
   "metadata": {},
   "outputs": [
    {
     "name": "stdout",
     "output_type": "stream",
     "text": [
      "[[-1.         -0.77777778 -0.55555556 -0.33333333 -0.11111111  0.11111111\n",
      "   0.33333333  0.55555556  0.77777778  1.        ]\n",
      " [-1.         -0.77777778 -0.55555556 -0.33333333 -0.11111111  0.11111111\n",
      "   0.33333333  0.55555556  0.77777778  1.        ]\n",
      " [-1.         -0.77777778 -0.55555556 -0.33333333 -0.11111111  0.11111111\n",
      "   0.33333333  0.55555556  0.77777778  1.        ]\n",
      " [-1.         -0.77777778 -0.55555556 -0.33333333 -0.11111111  0.11111111\n",
      "   0.33333333  0.55555556  0.77777778  1.        ]\n",
      " [-1.         -0.77777778 -0.55555556 -0.33333333 -0.11111111  0.11111111\n",
      "   0.33333333  0.55555556  0.77777778  1.        ]\n",
      " [-1.         -0.77777778 -0.55555556 -0.33333333 -0.11111111  0.11111111\n",
      "   0.33333333  0.55555556  0.77777778  1.        ]\n",
      " [-1.         -0.77777778 -0.55555556 -0.33333333 -0.11111111  0.11111111\n",
      "   0.33333333  0.55555556  0.77777778  1.        ]\n",
      " [-1.         -0.77777778 -0.55555556 -0.33333333 -0.11111111  0.11111111\n",
      "   0.33333333  0.55555556  0.77777778  1.        ]\n",
      " [-1.         -0.77777778 -0.55555556 -0.33333333 -0.11111111  0.11111111\n",
      "   0.33333333  0.55555556  0.77777778  1.        ]\n",
      " [-1.         -0.77777778 -0.55555556 -0.33333333 -0.11111111  0.11111111\n",
      "   0.33333333  0.55555556  0.77777778  1.        ]]\n",
      "[[-1.         -1.         -1.         -1.         -1.         -1.         -1.\n",
      "  -1.         -1.         -1.        ]\n",
      " [-0.77777778 -0.77777778 -0.77777778 -0.77777778 -0.77777778 -0.77777778\n",
      "  -0.77777778 -0.77777778 -0.77777778 -0.77777778]\n",
      " [-0.55555556 -0.55555556 -0.55555556 -0.55555556 -0.55555556 -0.55555556\n",
      "  -0.55555556 -0.55555556 -0.55555556 -0.55555556]\n",
      " [-0.33333333 -0.33333333 -0.33333333 -0.33333333 -0.33333333 -0.33333333\n",
      "  -0.33333333 -0.33333333 -0.33333333 -0.33333333]\n",
      " [-0.11111111 -0.11111111 -0.11111111 -0.11111111 -0.11111111 -0.11111111\n",
      "  -0.11111111 -0.11111111 -0.11111111 -0.11111111]\n",
      " [ 0.11111111  0.11111111  0.11111111  0.11111111  0.11111111  0.11111111\n",
      "   0.11111111  0.11111111  0.11111111  0.11111111]\n",
      " [ 0.33333333  0.33333333  0.33333333  0.33333333  0.33333333  0.33333333\n",
      "   0.33333333  0.33333333  0.33333333  0.33333333]\n",
      " [ 0.55555556  0.55555556  0.55555556  0.55555556  0.55555556  0.55555556\n",
      "   0.55555556  0.55555556  0.55555556  0.55555556]\n",
      " [ 0.77777778  0.77777778  0.77777778  0.77777778  0.77777778  0.77777778\n",
      "   0.77777778  0.77777778  0.77777778  0.77777778]\n",
      " [ 1.          1.          1.          1.          1.          1.          1.\n",
      "   1.          1.          1.        ]]\n",
      "[[ 1.41421356  1.26686158  1.1439589   1.05409255  1.0061539   1.0061539\n",
      "   1.05409255  1.1439589   1.26686158  1.41421356]\n",
      " [ 1.26686158  1.09994388  0.95581392  0.84619701  0.7856742   0.7856742\n",
      "   0.84619701  0.95581392  1.09994388  1.26686158]\n",
      " [ 1.1439589   0.95581392  0.7856742   0.64788354  0.56655772  0.56655772\n",
      "   0.64788354  0.7856742   0.95581392  1.1439589 ]\n",
      " [ 1.05409255  0.84619701  0.64788354  0.47140452  0.35136418  0.35136418\n",
      "   0.47140452  0.64788354  0.84619701  1.05409255]\n",
      " [ 1.0061539   0.7856742   0.56655772  0.35136418  0.15713484  0.15713484\n",
      "   0.35136418  0.56655772  0.7856742   1.0061539 ]\n",
      " [ 1.0061539   0.7856742   0.56655772  0.35136418  0.15713484  0.15713484\n",
      "   0.35136418  0.56655772  0.7856742   1.0061539 ]\n",
      " [ 1.05409255  0.84619701  0.64788354  0.47140452  0.35136418  0.35136418\n",
      "   0.47140452  0.64788354  0.84619701  1.05409255]\n",
      " [ 1.1439589   0.95581392  0.7856742   0.64788354  0.56655772  0.56655772\n",
      "   0.64788354  0.7856742   0.95581392  1.1439589 ]\n",
      " [ 1.26686158  1.09994388  0.95581392  0.84619701  0.7856742   0.7856742\n",
      "   0.84619701  0.95581392  1.09994388  1.26686158]\n",
      " [ 1.41421356  1.26686158  1.1439589   1.05409255  1.0061539   1.0061539\n",
      "   1.05409255  1.1439589   1.26686158  1.41421356]]\n",
      "[[ 0.36787944  0.44822088  0.51979489  0.57375342  0.60279818  0.60279818\n",
      "   0.57375342  0.51979489  0.44822088  0.36787944]\n",
      " [ 0.44822088  0.54610814  0.63331324  0.69905581  0.73444367  0.73444367\n",
      "   0.69905581  0.63331324  0.54610814  0.44822088]\n",
      " [ 0.51979489  0.63331324  0.73444367  0.81068432  0.85172308  0.85172308\n",
      "   0.81068432  0.73444367  0.63331324  0.51979489]\n",
      " [ 0.57375342  0.69905581  0.81068432  0.89483932  0.9401382   0.9401382\n",
      "   0.89483932  0.81068432  0.69905581  0.57375342]\n",
      " [ 0.60279818  0.73444367  0.85172308  0.9401382   0.98773022  0.98773022\n",
      "   0.9401382   0.85172308  0.73444367  0.60279818]\n",
      " [ 0.60279818  0.73444367  0.85172308  0.9401382   0.98773022  0.98773022\n",
      "   0.9401382   0.85172308  0.73444367  0.60279818]\n",
      " [ 0.57375342  0.69905581  0.81068432  0.89483932  0.9401382   0.9401382\n",
      "   0.89483932  0.81068432  0.69905581  0.57375342]\n",
      " [ 0.51979489  0.63331324  0.73444367  0.81068432  0.85172308  0.85172308\n",
      "   0.81068432  0.73444367  0.63331324  0.51979489]\n",
      " [ 0.44822088  0.54610814  0.63331324  0.69905581  0.73444367  0.73444367\n",
      "   0.69905581  0.63331324  0.54610814  0.44822088]\n",
      " [ 0.36787944  0.44822088  0.51979489  0.57375342  0.60279818  0.60279818\n",
      "   0.57375342  0.51979489  0.44822088  0.36787944]]\n"
     ]
    }
   ],
   "source": [
    "#生成二维的高斯矩阵\n",
    "x,y=np.meshgrid(np.linspace(-1,1,10), np.linspace(-1,1,10))\n",
    "print (x)\n",
    "print (y)\n",
    "D = np.sqrt(x**2+y**2)\n",
    "print (D)\n",
    "sigma, mu = 1, 0\n",
    "a = np.exp(-(D-mu)**2/(2*sigma**2))\n",
    "print (a)"
   ]
  },
  {
   "cell_type": "code",
   "execution_count": null,
   "metadata": {
    "collapsed": true
   },
   "outputs": [],
   "source": [
    ""
   ]
  }
 ],
 "metadata": {
  "kernelspec": {
   "display_name": "Python 3",
   "language": "python",
   "name": "python3"
  },
  "language_info": {
   "codemirror_mode": {
    "name": "ipython",
    "version": 3.0
   },
   "file_extension": ".py",
   "mimetype": "text/x-python",
   "name": "python",
   "nbconvert_exporter": "python",
   "pygments_lexer": "ipython3",
   "version": "3.6.1"
  }
 },
 "nbformat": 4,
 "nbformat_minor": 0
}